{
 "cells": [
  {
   "cell_type": "code",
   "execution_count": 2,
   "metadata": {
    "collapsed": true,
    "pycharm": {
     "is_executing": false
    }
   },
   "outputs": [],
   "source": [
    "import cv2\n",
    "import numpy as np\n",
    "from sklearn.metrics import pairwise\n",
    "\n"
   ]
  },
  {
   "cell_type": "code",
   "execution_count": 3,
   "outputs": [],
   "source": [
    "background = None\n",
    "accumulated_weight =0.5\n",
    "\n",
    "roi_top =20 \n",
    "roi_bottom =300\n",
    "roi_right = 300\n",
    "roi_left = 600\n"
   ],
   "metadata": {
    "collapsed": false,
    "pycharm": {
     "name": "#%%\n",
     "is_executing": false
    }
   }
  },
  {
   "cell_type": "code",
   "execution_count": 4,
   "outputs": [],
   "source": [
    "def calc_accum_avg(frame,accumulated_weight):\n",
    "    global background\n",
    "    if background is None:\n",
    "        background = frame.copy().astype('float')\n",
    "        return None\n",
    "    cv2.accumulateWeighted(frame,background,accumulated_weight)\n",
    "    \n",
    "    "
   ],
   "metadata": {
    "collapsed": false,
    "pycharm": {
     "name": "#%%\n",
     "is_executing": false
    }
   }
  },
  {
   "cell_type": "code",
   "execution_count": 5,
   "outputs": [],
   "source": [
    "def segment(frame,threshold=25):\n",
    "    diff = cv2.absdiff(background.astype('uint8'),frame)\n",
    "    ret,thresholded = cv2.threshold(diff,threshold,255,cv2.THRESH_BINARY)\n",
    "    image,contours,hierarchy = cv2.findContours(thresholded.copy(),cv2.RETR_EXTERNAL,cv2.CHAIN_APPROX_SIMPLE)\n",
    "    if len(contours) == 0:\n",
    "        return None\n",
    "    else:\n",
    "        hand_segment = max(contours,key=cv2.contourArea)\n",
    "        return (thresholded,hand_segment)\n",
    "    "
   ],
   "metadata": {
    "collapsed": false,
    "pycharm": {
     "name": "#%%\n",
     "is_executing": false
    }
   }
  },
  {
   "cell_type": "code",
   "execution_count": 6,
   "outputs": [],
   "source": [
    "def count_finger(thresholded,hand_segment):\n",
    "    conv_hull =cv2.convexHull(hand_segment)\n",
    "    \n",
    "    top = tuple(conv_hull[conv_hull[:,:,1].argmin()[0]])\n",
    "    bottom = tuple(conv_hull[conv_hull[:,:,1].argmin()[0]])\n",
    "    left = tuple(conv_hull[conv_hull[:,:,1].argmin()[0]])\n",
    "    right = tuple(conv_hull[conv_hull[:,:,1].argmin()[0]])\n",
    "    \n",
    "    cX = (left[0] + right[0])//2\n",
    "    cY = (top[1] + bottom[1])//2\n",
    "    \n",
    "    distance = pairwise.euclidean_distances(([cX,cY]),Y=[left,right,top,bottom])[0]\n",
    "    max_distance = distance.max()\n",
    "    radius = int(0.8*max_distance)\n",
    "    circumfrence = (2*np.pi*radius)\n",
    "    circular_roi = np.zeros(thresholded.shape[:2],dtype='uint8')\n",
    "    cv2.circle(circular_roi,(cX,cY),radius,255,10)\n",
    "    circular_roi = cv2.bitwise_and(thresholded,thresholded,mask=circular_roi)\n",
    "    image,contours,hierarchy = cv2.findContours(circular_roi.copy(),cv2.RETR_EXTERNAL,cv2.CHAIN_APPROX_NONE)\n",
    "    count=0\n",
    "    for cnt in contours:\n",
    "        (x,y,w,h) = cv2.boundingRect(cnt)\n",
    "        out_of_wrist = ((cY + (cY*0.25)) > (y+h))\n",
    "        limit_point = ((circumfrence*0.25) > cnt.shape[0])\n",
    "        \n",
    "        if out_of_wrist and limit_point:\n",
    "            count+=1\n",
    "    return count\n",
    "        \n",
    "        \n",
    "    \n",
    "\n"
   ],
   "metadata": {
    "collapsed": false,
    "pycharm": {
     "name": "#%%\n",
     "is_executing": false
    }
   }
  },
  {
   "cell_type": "code",
   "execution_count": null,
   "outputs": [],
   "source": [
    "cam = cv2.VideoCapture(0)\n",
    "num_frames = 0\n",
    "while True:\n",
    "    ret,frame = cam.read()\n",
    "    frame = cv2.flip(frame, 1)\n",
    "    frame_copy = frame.copy()\n",
    "    roi = frame[roi_top:roi_bottom,roi_right:roi_left]\n",
    "    gray = cv2.cvtColor(roi,cv2.COLOR_BGR2GRAY)\n",
    "    gray = cv2.GaussianBlur(gray,(7,7),0)\n",
    "    if num_frames<120 :\n",
    "        calc_accum_avg(gray,accumulated_weight)\n",
    "        if num_frames<=59:\n",
    "            cv2.putText(frame.copy(),\"WAIT,GETTING BACKGROUND\",(200,300),cv2.FONT_HERSHEY_COMPLEX_SMALL,1,(0,0,255),2)\n",
    "            cv2.imshow('Finger Count',frame_copy)\n",
    "    else:\n",
    "            hand = segment(gray)\n",
    "            if hand is not None:\n",
    "                thresholded, hand_segment = hand\n",
    "                cv2.drawContours(frame_copy,[hand_segment+(roi_right,roi_top)],-1,(255,0,0),5)\n",
    "                finger =count_finger(thresholded,hand_segment)\n",
    "                cv2.putText(frame_copy,str(finger),(70,50),cv2.FONT_HERSHEY_COMPLEX_SIMPLEX,1,(255,0,0),2)\n",
    "                cv2.imshow(\"Thresholded\",thresholded)\n",
    "    cv2.rectangle(frame_copy,(roi_left,roi_top),(roi_right,roi_bottom),(0,0,255),5)\n",
    "    num_frames+=1\n",
    "    cv2.imshow(\"FINGER COUNT\",frame_copy)\n",
    "    k=cv2.waitKey(1) & 0xFF\n",
    "    if k==27:\n",
    "        break\n",
    "cam.release()\n",
    "cv2.destroyAllWindows()\n",
    "\n",
    "\n",
    "\n",
    "#################### THE END ##################################\n"
   ],
   "metadata": {
    "collapsed": false,
    "pycharm": {
     "name": "#%%\n",
     "is_executing": true
    }
   }
  },
  {
   "cell_type": "code",
   "execution_count": null,
   "outputs": [],
   "source": [],
   "metadata": {
    "collapsed": false,
    "pycharm": {
     "name": "#%%\n",
     "is_executing": false
    }
   }
  },
  {
   "cell_type": "code",
   "execution_count": null,
   "outputs": [],
   "source": [
    "\n"
   ],
   "metadata": {
    "collapsed": false,
    "pycharm": {
     "name": "#%%\n",
     "is_executing": false
    }
   }
  }
 ],
 "metadata": {
  "kernelspec": {
   "name": "deeplearning",
   "language": "python",
   "display_name": "deeplearning"
  },
  "language_info": {
   "codemirror_mode": {
    "name": "ipython",
    "version": 2
   },
   "file_extension": ".py",
   "mimetype": "text/x-python",
   "name": "python",
   "nbconvert_exporter": "python",
   "pygments_lexer": "ipython2",
   "version": "2.7.6"
  },
  "pycharm": {
   "stem_cell": {
    "cell_type": "raw",
    "source": [],
    "metadata": {
     "collapsed": false
    }
   }
  }
 },
 "nbformat": 4,
 "nbformat_minor": 0
}